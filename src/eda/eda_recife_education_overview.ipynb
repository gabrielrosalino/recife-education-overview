{
  "nbformat": 4,
  "nbformat_minor": 0,
  "metadata": {
    "colab": {
      "provenance": [],
      "authorship_tag": "ABX9TyN1NaNIka1h/1G+ytMQ+4FJ",
      "include_colab_link": true
    },
    "kernelspec": {
      "name": "python3",
      "display_name": "Python 3"
    },
    "language_info": {
      "name": "python"
    }
  },
  "cells": [
    {
      "cell_type": "markdown",
      "metadata": {
        "id": "view-in-github",
        "colab_type": "text"
      },
      "source": [
        "<a href=\"https://colab.research.google.com/github/gabrielrosalino/recife-education-overview/blob/master/src/eda/eda_recife_education_overview.ipynb\" target=\"_parent\"><img src=\"https://colab.research.google.com/assets/colab-badge.svg\" alt=\"Open In Colab\"/></a>"
      ]
    },
    {
      "cell_type": "code",
      "execution_count": 1,
      "metadata": {
        "colab": {
          "base_uri": "https://localhost:8080/"
        },
        "id": "NLG9VQynrq7Y",
        "outputId": "cb2e5ac7-9c0f-48fb-82cb-fc973bf1b01e"
      },
      "outputs": [
        {
          "output_type": "stream",
          "name": "stdout",
          "text": [
            "Requirement already satisfied: pandas in /usr/local/lib/python3.10/dist-packages (1.5.3)\n",
            "Requirement already satisfied: python-dateutil>=2.8.1 in /usr/local/lib/python3.10/dist-packages (from pandas) (2.8.2)\n",
            "Requirement already satisfied: pytz>=2020.1 in /usr/local/lib/python3.10/dist-packages (from pandas) (2023.3.post1)\n",
            "Requirement already satisfied: numpy>=1.21.0 in /usr/local/lib/python3.10/dist-packages (from pandas) (1.23.5)\n",
            "Requirement already satisfied: six>=1.5 in /usr/local/lib/python3.10/dist-packages (from python-dateutil>=2.8.1->pandas) (1.16.0)\n"
          ]
        }
      ],
      "source": [
        "!pip install pandas"
      ]
    },
    {
      "cell_type": "code",
      "source": [
        "import pandas as pd\n",
        "pd.set_option('display.expand_frame_repr', False)\n",
        "\n",
        "df = pd.read_csv('/content/recife_education_data/geolocalizacao-escolas-recife.csv')\n",
        "\n",
        "print(df.describe(include='all'))"
      ],
      "metadata": {
        "colab": {
          "base_uri": "https://localhost:8080/"
        },
        "id": "4bVa2WkJvW1F",
        "outputId": "4119af42-bf6f-4b10-f652-4cfaf58a8612"
      },
      "execution_count": 12,
      "outputs": [
        {
          "output_type": "stream",
          "name": "stdout",
          "text": [
            "               _id         rpa    tipo_cod              tipo  cod_escola                  escola          inep               rua numero  cod_bairro  ... qtd_professores escola_climatizada          data_visita  quadra_coberta  quadra_descoberta biblioteca sala_recurso               gestor   longitude    latitude\n",
            "count   351.000000  351.000000  351.000000               351  351.000000                     351  3.490000e+02               345    351  351.000000  ...      351.000000                351                  125             351                351        351          351                  322  345.000000  345.000000\n",
            "unique         NaN         NaN         NaN                 4         NaN                     351           NaN               301    202         NaN  ...             NaN                  2                   58               2                  2          2            2                  322         NaN         NaN\n",
            "top            NaN         NaN         NaN  ESCOLA MUNICIPAL         NaN  ALMIRANTE SOARES DUTRA           NaN  CORREGO DA AREIA    S/N         NaN  ...             NaN                NÂO  2017-04-17T00:00:00             NÃO                NÃO        SIM          NÃO  VERONICA MARIA LIMA         NaN         NaN\n",
            "freq           NaN         NaN         NaN               258         NaN                       1           NaN                 4     77         NaN  ...             NaN                261                    5             320                321        180          198                    1         NaN         NaN\n",
            "mean    176.000000    3.920228    1.811966               NaN  359.495726                     NaN  2.615097e+07               NaN    NaN  514.239316  ...       11.373219                NaN                  NaN             NaN                NaN        NaN          NaN                  NaN  -34.922126   -8.058403\n",
            "std     101.469207    1.608696    1.892534               NaN  297.414073                     NaN  4.442375e+04               NaN    NaN  266.208006  ...        7.254183                NaN                  NaN             NaN                NaN        NaN          NaN                  NaN    0.024240    0.044101\n",
            "min       1.000000    1.000000    1.000000               NaN    1.000000                     NaN  2.611758e+07               NaN    NaN   19.000000  ...        0.000000                NaN                  NaN             NaN                NaN        NaN          NaN                  NaN  -34.990130   -8.145220\n",
            "25%      88.500000    3.000000    1.000000               NaN   91.500000                     NaN  2.612554e+07               NaN    NaN  264.000000  ...        6.000000                NaN                  NaN             NaN                NaN        NaN          NaN                  NaN  -34.939550   -8.092440\n",
            "50%     176.000000    4.000000    1.000000               NaN  336.000000                     NaN  2.614523e+07               NaN    NaN  558.000000  ...       10.000000                NaN                  NaN             NaN                NaN        NaN          NaN                  NaN  -34.924490   -8.052400\n",
            "75%     263.500000    5.000000    2.000000               NaN  504.500000                     NaN  2.616666e+07               NaN    NaN  736.000000  ...       15.000000                NaN                  NaN             NaN                NaN        NaN          NaN                  NaN  -34.904740   -8.018270\n",
            "max     351.000000    6.000000    8.000000               NaN  999.000000                     NaN  2.649171e+07               NaN    NaN  949.000000  ...       39.000000                NaN                  NaN             NaN                NaN        NaN          NaN                  NaN  -34.869830   -7.965080\n",
            "\n",
            "[11 rows x 24 columns]\n"
          ]
        }
      ]
    }
  ]
}